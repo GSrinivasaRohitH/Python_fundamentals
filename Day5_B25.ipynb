{
 "cells": [
  {
   "cell_type": "code",
   "execution_count": 1,
   "metadata": {},
   "outputs": [
    {
     "name": "stdout",
     "output_type": "stream",
     "text": [
      "['kiran', 'raju', 'neha', 'kumar', 'sai', 'rohith', 'ramesh']\n"
     ]
    }
   ],
   "source": [
    "students=['kiran','raju','neha','kumar','sai','rohith','ramesh']\n",
    "print(students)"
   ]
  },
  {
   "cell_type": "code",
   "execution_count": 2,
   "metadata": {},
   "outputs": [
    {
     "data": {
      "text/plain": [
       "list"
      ]
     },
     "execution_count": 2,
     "metadata": {},
     "output_type": "execute_result"
    }
   ],
   "source": [
    "type(students)"
   ]
  },
  {
   "cell_type": "code",
   "execution_count": 4,
   "metadata": {},
   "outputs": [
    {
     "name": "stdout",
     "output_type": "stream",
     "text": [
      "Keep up the good work,kiran\n"
     ]
    }
   ],
   "source": [
    "print(f\"Keep up the good work,{students[0]}\")"
   ]
  },
  {
   "cell_type": "code",
   "execution_count": 5,
   "metadata": {},
   "outputs": [
    {
     "name": "stdout",
     "output_type": "stream",
     "text": [
      "Keep up the good work,raju\n"
     ]
    }
   ],
   "source": [
    "print(f\"Keep up the good work,{students[1]}\")"
   ]
  },
  {
   "cell_type": "code",
   "execution_count": 6,
   "metadata": {},
   "outputs": [
    {
     "name": "stdout",
     "output_type": "stream",
     "text": [
      "Keep up the good work,neha\n"
     ]
    }
   ],
   "source": [
    "print(f\"Keep up the good work,{students[2]}\")"
   ]
  },
  {
   "cell_type": "code",
   "execution_count": 7,
   "metadata": {},
   "outputs": [
    {
     "name": "stdout",
     "output_type": "stream",
     "text": [
      "kiran\n",
      "raju\n",
      "neha\n",
      "kumar\n",
      "sai\n",
      "rohith\n",
      "ramesh\n"
     ]
    }
   ],
   "source": [
    "for z in students:\n",
    "    print(z)"
   ]
  },
  {
   "cell_type": "code",
   "execution_count": 8,
   "metadata": {},
   "outputs": [
    {
     "name": "stdout",
     "output_type": "stream",
     "text": [
      "keep up the good work,kiran\n",
      "keep up the good work,raju\n",
      "keep up the good work,neha\n",
      "keep up the good work,kumar\n",
      "keep up the good work,sai\n",
      "keep up the good work,rohith\n",
      "keep up the good work,ramesh\n"
     ]
    }
   ],
   "source": [
    "for z in students:\n",
    "    print(f\"keep up the good work,{z}\")"
   ]
  },
  {
   "cell_type": "code",
   "execution_count": 9,
   "metadata": {},
   "outputs": [
    {
     "name": "stdout",
     "output_type": "stream",
     "text": [
      "kiran\n",
      "raju\n",
      "neha\n",
      "kumar\n",
      "sai\n",
      "rohith\n",
      "ramesh\n"
     ]
    }
   ],
   "source": [
    "for h in students:\n",
    "    print(h)"
   ]
  },
  {
   "cell_type": "code",
   "execution_count": 12,
   "metadata": {},
   "outputs": [
    {
     "name": "stdout",
     "output_type": "stream",
     "text": [
      "keep up the good work,kiran\n",
      "I will be looking forward to receive your file of today,kiran\n",
      "keep up the good work,raju\n",
      "I will be looking forward to receive your file of today,raju\n",
      "keep up the good work,neha\n",
      "I will be looking forward to receive your file of today,neha\n",
      "keep up the good work,kumar\n",
      "I will be looking forward to receive your file of today,kumar\n",
      "keep up the good work,sai\n",
      "I will be looking forward to receive your file of today,sai\n",
      "keep up the good work,rohith\n",
      "I will be looking forward to receive your file of today,rohith\n",
      "keep up the good work,ramesh\n",
      "I will be looking forward to receive your file of today,ramesh\n"
     ]
    }
   ],
   "source": [
    "for z in students:\n",
    "    print(f\"keep up the good work,{z}\")\n",
    "    print(f\"I will be looking forward to receive your file of today,{z}\")"
   ]
  },
  {
   "cell_type": "code",
   "execution_count": 16,
   "metadata": {},
   "outputs": [
    {
     "name": "stdout",
     "output_type": "stream",
     "text": [
      "keep up the good work,kiran\n",
      "I will be looking forward to receive your file of today,kiran.\n",
      "\n",
      "keep up the good work,raju\n",
      "I will be looking forward to receive your file of today,raju.\n",
      "\n",
      "keep up the good work,neha\n",
      "I will be looking forward to receive your file of today,neha.\n",
      "\n",
      "keep up the good work,kumar\n",
      "I will be looking forward to receive your file of today,kumar.\n",
      "\n",
      "keep up the good work,sai\n",
      "I will be looking forward to receive your file of today,sai.\n",
      "\n",
      "keep up the good work,rohith\n",
      "I will be looking forward to receive your file of today,rohith.\n",
      "\n",
      "keep up the good work,ramesh\n",
      "I will be looking forward to receive your file of today,ramesh.\n",
      "\n"
     ]
    }
   ],
   "source": [
    "for z in students:\n",
    "    print(f\"keep up the good work,{z}\")\n",
    "    print(f\"I will be looking forward to receive your file of today,{z}.\\n\")"
   ]
  },
  {
   "cell_type": "code",
   "execution_count": 18,
   "metadata": {},
   "outputs": [
    {
     "name": "stdout",
     "output_type": "stream",
     "text": [
      "keep up the good work,kiran\n",
      "I will be looking forward to receive your file of today,kiran.\n",
      "\n",
      "keep up the good work,raju\n",
      "I will be looking forward to receive your file of today,raju.\n",
      "\n",
      "keep up the good work,neha\n",
      "I will be looking forward to receive your file of today,neha.\n",
      "\n",
      "keep up the good work,kumar\n",
      "I will be looking forward to receive your file of today,kumar.\n",
      "\n",
      "keep up the good work,sai\n",
      "I will be looking forward to receive your file of today,sai.\n",
      "\n",
      "keep up the good work,rohith\n",
      "I will be looking forward to receive your file of today,rohith.\n",
      "\n",
      "keep up the good work,ramesh\n",
      "I will be looking forward to receive your file of today,ramesh.\n",
      "\n",
      "Thank you all for showing interest in learning python\n"
     ]
    }
   ],
   "source": [
    "for z in students:\n",
    "    print(f\"keep up the good work,{z}\")\n",
    "    print(f\"I will be looking forward to receive your file of today,{z}.\\n\")\n",
    "print(f\"Thank you all for showing interest in learning python\")"
   ]
  },
  {
   "cell_type": "code",
   "execution_count": 19,
   "metadata": {},
   "outputs": [
    {
     "name": "stdout",
     "output_type": "stream",
     "text": [
      "['kiran', 'raju', 'neha', 'kumar', 'sai', 'rohith', 'ramesh']\n"
     ]
    }
   ],
   "source": [
    "print(students)"
   ]
  },
  {
   "cell_type": "code",
   "execution_count": null,
   "metadata": {},
   "outputs": [],
   "source": []
  }
 ],
 "metadata": {
  "kernelspec": {
   "display_name": "Python 3",
   "language": "python",
   "name": "python3"
  },
  "language_info": {
   "codemirror_mode": {
    "name": "ipython",
    "version": 3
   },
   "file_extension": ".py",
   "mimetype": "text/x-python",
   "name": "python",
   "nbconvert_exporter": "python",
   "pygments_lexer": "ipython3",
   "version": "3.7.3"
  }
 },
 "nbformat": 4,
 "nbformat_minor": 2
}
