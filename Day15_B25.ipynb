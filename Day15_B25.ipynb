{
 "cells": [
  {
   "cell_type": "code",
   "execution_count": 1,
   "metadata": {},
   "outputs": [],
   "source": [
    "# Introduction to arbitory arguments:"
   ]
  },
  {
   "cell_type": "code",
   "execution_count": 4,
   "metadata": {},
   "outputs": [],
   "source": [
    "def make_pizza(*topping):\n",
    "    \"\"\"creating a function getting the details of the topping\"\"\"\n",
    "    print(topping)"
   ]
  },
  {
   "cell_type": "code",
   "execution_count": 5,
   "metadata": {},
   "outputs": [
    {
     "name": "stdout",
     "output_type": "stream",
     "text": [
      "('corn',)\n",
      "('olives', 'onions', 'tomatoes')\n",
      "('bbqchicken', 'capsicum')\n"
     ]
    }
   ],
   "source": [
    "make_pizza('corn')\n",
    "make_pizza('olives','onions','tomatoes')\n",
    "make_pizza('bbqchicken','capsicum')"
   ]
  },
  {
   "cell_type": "code",
   "execution_count": 6,
   "metadata": {},
   "outputs": [],
   "source": [
    "# Impelementation of for loop with functions:"
   ]
  },
  {
   "cell_type": "code",
   "execution_count": 26,
   "metadata": {},
   "outputs": [],
   "source": [
    "def make_pizza(*toppings):\n",
    "    \"\"\"summarise the pizza that we are about to make\"\"\"\n",
    "    print(\"\\n making the pizza with the following toppings:\")\n",
    "    for topping in toppings:\n",
    "        print(f\"-{topping}\")"
   ]
  },
  {
   "cell_type": "code",
   "execution_count": 27,
   "metadata": {},
   "outputs": [
    {
     "name": "stdout",
     "output_type": "stream",
     "text": [
      "\n",
      " making the pizza with the following toppings:\n",
      "-corn\n",
      "\n",
      " making the pizza with the following toppings:\n",
      "-olives\n",
      "-onions\n",
      "-tomatoes\n",
      "\n",
      " making the pizza with the following toppings:\n",
      "-bbqchicken\n",
      "-capsicum\n"
     ]
    }
   ],
   "source": [
    "make_pizza('corn')\n",
    "make_pizza('olives','onions','tomatoes')\n",
    "make_pizza('bbqchicken','capsicum')"
   ]
  },
  {
   "cell_type": "code",
   "execution_count": 28,
   "metadata": {},
   "outputs": [],
   "source": [
    "#Enhancement:"
   ]
  },
  {
   "cell_type": "code",
   "execution_count": 44,
   "metadata": {},
   "outputs": [],
   "source": [
    "def make_pizza(size,*toppings):\n",
    "    \"\"\"summarise the pizza that we are about to make\"\"\"\n",
    "    print(\"\\n making the pizza with the following toppings:\")\n",
    "    for topping in toppings:\n",
    "        print(f\" i have ordered {size} pizza with -{topping} toppings\")"
   ]
  },
  {
   "cell_type": "code",
   "execution_count": 45,
   "metadata": {},
   "outputs": [
    {
     "name": "stdout",
     "output_type": "stream",
     "text": [
      "\n",
      " making the pizza with the following toppings:\n",
      " i have ordered regular pizza with -corn toppings\n",
      " i have ordered regular pizza with -onion toppings\n"
     ]
    }
   ],
   "source": [
    "make_pizza('regular','corn','onion')"
   ]
  },
  {
   "cell_type": "code",
   "execution_count": null,
   "metadata": {},
   "outputs": [],
   "source": []
  },
  {
   "cell_type": "code",
   "execution_count": null,
   "metadata": {},
   "outputs": [],
   "source": []
  }
 ],
 "metadata": {
  "kernelspec": {
   "display_name": "Python 3",
   "language": "python",
   "name": "python3"
  },
  "language_info": {
   "codemirror_mode": {
    "name": "ipython",
    "version": 3
   },
   "file_extension": ".py",
   "mimetype": "text/x-python",
   "name": "python",
   "nbconvert_exporter": "python",
   "pygments_lexer": "ipython3",
   "version": "3.7.3"
  }
 },
 "nbformat": 4,
 "nbformat_minor": 2
}
