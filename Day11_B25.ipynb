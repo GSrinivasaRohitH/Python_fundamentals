{
 "cells": [
  {
   "cell_type": "code",
   "execution_count": 1,
   "metadata": {},
   "outputs": [],
   "source": [
    "#If Condition :"
   ]
  },
  {
   "cell_type": "code",
   "execution_count": 2,
   "metadata": {},
   "outputs": [],
   "source": [
    "age = 12"
   ]
  },
  {
   "cell_type": "code",
   "execution_count": 3,
   "metadata": {},
   "outputs": [
    {
     "name": "stdout",
     "output_type": "stream",
     "text": [
      "Sorry, you are not eligible to vote\n"
     ]
    }
   ],
   "source": [
    "if age>=18:\n",
    "    print(\"you are eligible to vote\")\n",
    "else:\n",
    "    print(\"Sorry, you are not eligible to vote\")"
   ]
  },
  {
   "cell_type": "code",
   "execution_count": 4,
   "metadata": {},
   "outputs": [
    {
     "name": "stdout",
     "output_type": "stream",
     "text": [
      "Your ticket cost is 30 Rupees\n"
     ]
    }
   ],
   "source": [
    "if age<=4:\n",
    "    print(\"Your ticket is free\")\n",
    "elif age<=20:\n",
    "    print(\"Your ticket cost is 30 Rupees\")\n",
    "else:\n",
    "    print(\"Your ticket cost is 50 Rupees\")"
   ]
  },
  {
   "cell_type": "code",
   "execution_count": 7,
   "metadata": {},
   "outputs": [
    {
     "name": "stdout",
     "output_type": "stream",
     "text": [
      "Tell me something and i will repeat it for you You r smart\n",
      "You r smart\n"
     ]
    }
   ],
   "source": [
    "message=input(\"Tell me something and i will repeat it for you \")\n",
    "print(message)"
   ]
  },
  {
   "cell_type": "code",
   "execution_count": 9,
   "metadata": {},
   "outputs": [
    {
     "name": "stdout",
     "output_type": "stream",
     "text": [
      "Tell me something and i will repeat it for you Rohith\n",
      "Hello, Rohith\n"
     ]
    }
   ],
   "source": [
    "message=input(\"Tell me something and i will repeat it for you \")\n",
    "print(f\"Hello, {message}\")"
   ]
  },
  {
   "cell_type": "code",
   "execution_count": 13,
   "metadata": {},
   "outputs": [
    {
     "name": "stdout",
     "output_type": "stream",
     "text": [
      "Tell me something and i will repeat it for you \n",
      "rohith\n",
      "\n",
      "Hello, rohith\n"
     ]
    }
   ],
   "source": [
    "message=input(\"Tell me something and i will repeat it for you \\n\")\n",
    "print(f\"\\nHello, {message}\")"
   ]
  },
  {
   "cell_type": "code",
   "execution_count": 14,
   "metadata": {},
   "outputs": [],
   "source": [
    "prompt=\"if you tell us who you are, we can personalise the message for you\"\n",
    "prompt+=\"\\nWhat is your name:\""
   ]
  },
  {
   "cell_type": "code",
   "execution_count": 15,
   "metadata": {},
   "outputs": [
    {
     "name": "stdout",
     "output_type": "stream",
     "text": [
      "if you tell us who you are, we can personalise the message for you\n",
      "What is your name:rohith\n"
     ]
    }
   ],
   "source": [
    "name=input(prompt)"
   ]
  },
  {
   "cell_type": "code",
   "execution_count": 16,
   "metadata": {},
   "outputs": [
    {
     "name": "stdout",
     "output_type": "stream",
     "text": [
      "if you tell us who you are, we can personalise the message for you\n",
      "What is your name:rohith\n",
      "Hello, rohith\n"
     ]
    }
   ],
   "source": [
    "name=input(prompt)\n",
    "print(f\"Hello, {name}\")"
   ]
  },
  {
   "cell_type": "code",
   "execution_count": null,
   "metadata": {},
   "outputs": [],
   "source": []
  }
 ],
 "metadata": {
  "kernelspec": {
   "display_name": "Python 3",
   "language": "python",
   "name": "python3"
  },
  "language_info": {
   "codemirror_mode": {
    "name": "ipython",
    "version": 3
   },
   "file_extension": ".py",
   "mimetype": "text/x-python",
   "name": "python",
   "nbconvert_exporter": "python",
   "pygments_lexer": "ipython3",
   "version": "3.7.3"
  }
 },
 "nbformat": 4,
 "nbformat_minor": 2
}
